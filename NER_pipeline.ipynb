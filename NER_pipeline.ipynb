{
 "cells": [
  {
   "cell_type": "code",
   "execution_count": 1,
   "metadata": {},
   "outputs": [
    {
     "name": "stderr",
     "output_type": "stream",
     "text": [
      "c:\\Users\\Bilal\\.conda\\envs\\textMining\\lib\\site-packages\\numpy\\_distributor_init.py:30: UserWarning: loaded more than 1 DLL from .libs:\n",
      "c:\\Users\\Bilal\\.conda\\envs\\textMining\\lib\\site-packages\\numpy\\.libs\\libopenblas64__v0.3.21-gcc_10_3_0.dll\n",
      "c:\\Users\\Bilal\\.conda\\envs\\textMining\\lib\\site-packages\\numpy\\.libs\\libopenblas64__v0.3.23-246-g3d31191b-gcc_10_3_0.dll\n",
      "  warnings.warn(\"loaded more than 1 DLL from .libs:\"\n"
     ]
    }
   ],
   "source": [
    "import pandas as pd\n",
    "from tqdm import tqdm\n",
    "from difflib import SequenceMatcher\n",
    "import re\n",
    "import pickle\n",
    "import nltk.data"
   ]
  },
  {
   "cell_type": "code",
   "execution_count": null,
   "metadata": {},
   "outputs": [],
   "source": [
    "def matcher(string, pattern):\n",
    "    '''\n",
    "    Return the start and end index of any pattern present in the text.\n",
    "    '''\n",
    "    match_list = []\n",
    "    pattern = pattern.strip()\n",
    "    seqMatch = SequenceMatcher(None, string, pattern, autojunk=False)\n",
    "    match = seqMatch.find_longest_match(0, len(string), 0, len(pattern))\n",
    "    if (match.size == len(pattern)):\n",
    "        start = match.a\n",
    "        end = match.a + match.size\n",
    "        match_tup = (start, end)\n",
    "        string = string.replace(pattern, \"X\" * len(pattern), 1)\n",
    "        match_list.append(match_tup)\n",
    "    \n",
    "    return match_list, string"
   ]
  },
  {
   "cell_type": "code",
   "execution_count": null,
   "metadata": {},
   "outputs": [],
   "source": [
    "def mark_sentence(s, match_list):\n",
    "    '''\n",
    "    Marks all the entities in the sentence as per the BIO scheme. \n",
    "    '''\n",
    "    word_dict = {}\n",
    "    for word in s.split():\n",
    "        word_dict[word] = 'O'\n",
    "        \n",
    "    for start, end, e_type in match_list:\n",
    "        temp_str = s[start:end]\n",
    "        tmp_list = temp_str.split()\n",
    "        if len(tmp_list) > 1:\n",
    "            word_dict[tmp_list[0]] = e_type\n",
    "            for w in tmp_list[1:]:\n",
    "                word_dict[w] = e_type\n",
    "        else:\n",
    "            word_dict[temp_str] = e_type\n",
    "    return word_dict"
   ]
  },
  {
   "cell_type": "code",
   "execution_count": null,
   "metadata": {},
   "outputs": [],
   "source": [
    "def clean(text):\n",
    "    '''\n",
    "    Just a helper fuction to add a space before the punctuations for better tokenization\n",
    "    '''\n",
    "    filters = [\"!\", \"#\", \"$\", \"%\", \"&\", \"(\", \")\", \"/\", \"*\", \".\", \":\", \";\", \"<\", \"=\", \">\", \"?\", \"@\", \"[\",\n",
    "               \"\\\\\", \"]\", \"_\", \"`\", \"{\", \"}\", \"~\", \"'\"]\n",
    "    for i in text:\n",
    "        if i in filters:\n",
    "            text = text.replace(i, \" \" + i)\n",
    "            \n",
    "    return text"
   ]
  },
  {
   "cell_type": "code",
   "execution_count": null,
   "metadata": {},
   "outputs": [],
   "source": [
    "def create_data(df, filepath):\n",
    "    '''\n",
    "    The function responsible for the creation of data in the said format.\n",
    "    '''\n",
    "    with open(filepath , 'w') as f:\n",
    "        for text, annotation in zip(df.text, df.annotation):\n",
    "            text = clean(text)\n",
    "            text_ = text        \n",
    "            match_list = []\n",
    "            for i in annotation:\n",
    "                a, text_ = matcher(text, i[0])\n",
    "                if a:\n",
    "                    match_list.append((a[0][0], a[0][1], i[1]))\n",
    "                    match_list.append((a[0][0], a[0][1], i[1]))\n",
    "\n",
    "            d = mark_sentence(text, match_list)\n",
    "\n",
    "            for i in d.keys():\n",
    "                f.writelines(i + ' ' + d[i] +'\\n')\n",
    "            f.writelines('\\n')"
   ]
  },
  {
   "cell_type": "code",
   "execution_count": null,
   "metadata": {},
   "outputs": [],
   "source": [
    "train_val_data = pd.DataFrame(columns=['text', 'annotation'])\n",
    "test_data = pd.DataFrame(columns=['text', 'annotation'])"
   ]
  },
  {
   "cell_type": "code",
   "execution_count": null,
   "metadata": {},
   "outputs": [],
   "source": [
    "train_val_annotation = pd.read_json('train_val.json')\n",
    "test_annotations = pd.read_json('test.json')"
   ]
  },
  {
   "cell_type": "code",
   "execution_count": null,
   "metadata": {},
   "outputs": [],
   "source": [
    "def extract_gt(df):\n",
    "\n",
    "    ground_truth = []\n",
    "\n",
    "    for id in df['id'].unique():\n",
    "        latest_update = df[df['id'] == id]['updated_at'].max()\n",
    "        gt = df[(df['id'] == id)&(df['updated_at'] == latest_update)]\n",
    "        ground_truth.append(gt)\n",
    "\n",
    "    return ground_truth"
   ]
  },
  {
   "cell_type": "code",
   "execution_count": null,
   "metadata": {},
   "outputs": [],
   "source": [
    "train_val_gt = extract_gt(train_val_annotation)\n",
    "test_gt = extract_gt(test_annotations)"
   ]
  },
  {
   "cell_type": "code",
   "execution_count": null,
   "metadata": {},
   "outputs": [],
   "source": [
    "def framer(gt):\n",
    "    data = pd.DataFrame(columns=['text', 'annotation'])\n",
    "    tokenizer = nltk.data.load('tokenizers/punkt/english.pickle')\n",
    "    \n",
    "    for line in gt:\n",
    "        index = 0\n",
    "\n",
    "        text = list(line['text'])[0]  # Assuming 'text' is a key in your dictionary\n",
    "        \n",
    "        for s in tokenizer.tokenize(text):\n",
    "            sorted_line = sorted(list(line['label'])[0], key=lambda x: x['start'])\n",
    "            sentence_entities = []\n",
    "            \n",
    "            for l in sorted_line:\n",
    "                start = l['start']\n",
    "                end = l['end']\n",
    "                \n",
    "                if start >= index and end <= len(s) + index:\n",
    "                    entity_text = l['text']\n",
    "                    entity_label = l['labels'][0]\n",
    "                    sentence_entities.append((entity_text, entity_label))\n",
    "            \n",
    "            if sentence_entities:\n",
    "                data = data.append({'text': s, 'annotation': sentence_entities}, ignore_index=True)\n",
    "            \n",
    "            index += len(s)\n",
    "        \n",
    "    return data\n"
   ]
  },
  {
   "cell_type": "code",
   "execution_count": null,
   "metadata": {},
   "outputs": [],
   "source": [
    "train_val_data = framer(train_val_gt)\n",
    "test_data = framer(test_gt)"
   ]
  },
  {
   "cell_type": "code",
   "execution_count": null,
   "metadata": {},
   "outputs": [],
   "source": [
    "train_data = train_val_data[:int(len(train_val_data)*0.80)]\n",
    "val_data = train_val_data[int(len(train_val_data)*0.80):]"
   ]
  },
  {
   "cell_type": "code",
   "execution_count": null,
   "metadata": {},
   "outputs": [],
   "source": [
    "train_filepath = 'flair_data/train.txt'\n",
    "val_filepath = 'flair_data/val.txt'\n",
    "test_filepath = 'flair_data/test.txt'"
   ]
  },
  {
   "cell_type": "code",
   "execution_count": null,
   "metadata": {},
   "outputs": [],
   "source": [
    "create_data(train_data, train_filepath)\n",
    "create_data(val_data, val_filepath)\n",
    "create_data(test_data, test_filepath)"
   ]
  },
  {
   "cell_type": "code",
   "execution_count": null,
   "metadata": {},
   "outputs": [],
   "source": [
    "def remove_low_ratio(input_dir, input_file, ratio):\n",
    "    text = []\n",
    "    token = []\n",
    "    with open(f'{input_dir}/{input_file}', 'r') as fp:\n",
    "        output_file = f'{input_dir}/{input_file[:-4]}_balanced.txt'\n",
    "        with open(output_file, 'a') as fp_b:\n",
    "            for line in fp:\n",
    "                text_token = line.strip().split()\n",
    "                if not text_token:\n",
    "                    null = token.count('O')\n",
    "                    n_labels = len(token) - null\n",
    "                    s_ratio = n_labels / len(token)\n",
    "                    if s_ratio >= ratio:\n",
    "                        for i, j in zip(text, token):\n",
    "                            fp_b.write(f'{i} {j}\\n')\n",
    "                        fp_b.write('\\n')\n",
    "                    text = []\n",
    "                    token = []\n",
    "                else:\n",
    "                    if len(text_token) == 2:\n",
    "                        text.append(text_token[0])\n",
    "                        token.append(text_token[1])\n",
    "                    else:\n",
    "                        continue"
   ]
  },
  {
   "cell_type": "code",
   "execution_count": null,
   "metadata": {},
   "outputs": [],
   "source": [
    "remove_low_ratio('flair_data', 'test.txt', 0.3)\n",
    "remove_low_ratio('flair_data', 'val.txt', 0.3)\n",
    "remove_low_ratio('flair_data', 'train.txt', 0.3)"
   ]
  },
  {
   "cell_type": "code",
   "execution_count": null,
   "metadata": {},
   "outputs": [],
   "source": [
    "import torch\n",
    "\n",
    "device = torch.device('cuda')"
   ]
  },
  {
   "cell_type": "code",
   "execution_count": 2,
   "metadata": {},
   "outputs": [
    {
     "name": "stderr",
     "output_type": "stream",
     "text": [
      "c:\\Users\\Bilal\\.conda\\envs\\textMining\\lib\\site-packages\\tqdm\\auto.py:21: TqdmWarning: IProgress not found. Please update jupyter and ipywidgets. See https://ipywidgets.readthedocs.io/en/stable/user_install.html\n",
      "  from .autonotebook import tqdm as notebook_tqdm\n"
     ]
    }
   ],
   "source": [
    "from flair.data import Corpus\n",
    "from flair.datasets import ColumnCorpus\n",
    "from flair.embeddings import WordEmbeddings, StackedEmbeddings\n",
    "from flair.models import SequenceTagger\n",
    "from flair.trainers import ModelTrainer\n",
    "from pathlib import Path\n",
    "from flair.data import Corpus\n",
    "from flair.datasets import ColumnCorpus"
   ]
  },
  {
   "cell_type": "code",
   "execution_count": null,
   "metadata": {},
   "outputs": [],
   "source": [
    "# define columns\n",
    "columns = {0 : 'text', 1 : 'ner'}\n",
    "# directory where the data resides\n",
    "data_folder = 'flair_data/'\n",
    "# initializing the corpus\n",
    "corpus: Corpus = ColumnCorpus(data_folder, columns,\n",
    "                              train_file = 'train.txt',\n",
    "                              test_file = 'test.txt',\n",
    "                              dev_file = 'val.txt')\n",
    "\n",
    "embedding_types = [\n",
    "    WordEmbeddings('glove'),  # You can add more embeddings if needed\n",
    "]\n",
    "\n",
    "# Create Stacked Embeddings\n",
    "embeddings = StackedEmbeddings(embeddings=embedding_types)\n",
    "\n",
    "# Create a SequenceTagger model\n",
    "tag_type = 'ner'\n",
    "tag_dictionary = corpus.make_tag_dictionary(tag_type=tag_type)\n",
    "    \n",
    "model = SequenceTagger(hidden_size=256, embeddings=embeddings, tag_dictionary=tag_dictionary, tag_type=tag_type)\n",
    "\n",
    "# Create a ModelTrainer and fine-tune the model\n",
    "trainer = ModelTrainer(model, corpus)\n",
    "\n",
    "trainer.train(\n",
    "    'flair_models',\n",
    "    learning_rate=0.1,\n",
    "    mini_batch_size=64,\n",
    "    max_epochs=150,\n",
    ")"
   ]
  },
  {
   "cell_type": "code",
   "execution_count": 3,
   "metadata": {},
   "outputs": [
    {
     "name": "stdout",
     "output_type": "stream",
     "text": [
      "2023-10-16 16:06:50,107 SequenceTagger predicts: Dictionary with 10 tags: O, PLAYER, BIRTHDATE, COUNTRY, NATIONALITY, POSITION, CLUB, REFERENCE, <START>, <STOP>\n",
      "Sentence[148]: \"Brandon Aguilera Zamora (born 28 June 2003) is a Costa Rican professional footballer who plays as a midfielder for Premier League club Nottingham Forest and the Costa Rica national team. Career. Club. In July 2022 Premier League side Nottingham Forest announced they had signed Aguilera on a four-year deal from Alajuelense, and would immediately be loaned to fellow Costa Rican side Guanacasteca for six months. In January 2023, Aguilera joined Primeira Liga club Estoril on loan until the end of the season. He played with the teams under 23 squad. International. A youth international for Costa Rica since 2018, Aguilera made his senior team debut against the United States on 30 March 2022. In November 2022 he was named to the 26-man Costa Rica squad for the 2022 FIFA World Cup. Honours. Alajuelense\" → [\"Brandon\"/PLAYER, \"Aguilera\"/PLAYER, \"Zamora\"/PLAYER, \"28\"/BIRTHDATE, \"June\"/BIRTHDATE, \"2003\"/BIRTHDATE, \"Costa\"/NATIONALITY, \"Rican\"/NATIONALITY, \"midfielder\"/POSITION, \"Nottingham\"/CLUB, \"Forest\"/CLUB, \"Costa\"/COUNTRY, \"Rica\"/COUNTRY, \"Nottingham\"/CLUB, \"Forest\"/CLUB, \"Aguilera\"/PLAYER, \"Estoril\"/CLUB, \"He\"/REFERENCE, \"Costa\"/COUNTRY, \"Rica\"/COUNTRY, \"Aguilera\"/PLAYER, \"his\"/REFERENCE, \"United\"/CLUB, \"States\"/CLUB, \"he\"/REFERENCE, \"Costa\"/COUNTRY, \"Rica\"/COUNTRY, \"Alajuelense\"/CLUB]\n"
     ]
    }
   ],
   "source": [
    "from flair.data import Sentence\n",
    "\n",
    "# Load your fine-tuned model\n",
    "custom_ner_model = SequenceTagger.load(r'flair_models\\best-model.pt')\n",
    "\n",
    "# Create a Sentence for NER\n",
    "sentence = Sentence(\"Brandon Aguilera Zamora (born 28 June 2003) is a Costa Rican professional footballer who plays as a midfielder for Premier League club Nottingham Forest and the Costa Rica national team. Career. Club. In July 2022 Premier League side Nottingham Forest announced they had signed Aguilera on a four-year deal from Alajuelense, and would immediately be loaned to fellow Costa Rican side Guanacasteca for six months. In January 2023, Aguilera joined Primeira Liga club Estoril on loan until the end of the season. He played with the teams under 23 squad. International. A youth international for Costa Rica since 2018, Aguilera made his senior team debut against the United States on 30 March 2022. In November 2022 he was named to the 26-man Costa Rica squad for the 2022 FIFA World Cup. Honours. Alajuelense\")\n",
    "\n",
    "# Run NER on the sentence\n",
    "custom_ner_model.predict(sentence)\n",
    "\n",
    "# Access NER results\n",
    "print(sentence)"
   ]
  },
  {
   "cell_type": "code",
   "execution_count": 29,
   "metadata": {},
   "outputs": [],
   "source": [
    "import re\n",
    "\n",
    "def augmented_text(sentence):\n",
    "    outp = sentence.text\n",
    "    used_text = []\n",
    "    for l in sentence.labels:\n",
    "        text_token = l.labeled_identifier\n",
    "        text_token = text_token.split()\n",
    "        text, token = text_token[1].split('/')\n",
    "        text = text.replace('\"', '')\n",
    "        if text not in used_text:\n",
    "            outp = outp.replace(text, f'[{token}]{text}[{token}]')\n",
    "            outp = outp.replace(f'[{token}] [{token}]', ' ')\n",
    "            used_text.append(text)\n",
    "        else: \n",
    "            continue\n",
    "    return outp"
   ]
  },
  {
   "cell_type": "code",
   "execution_count": 35,
   "metadata": {},
   "outputs": [
    {
     "name": "stdout",
     "output_type": "stream",
     "text": [
      "[PLAYER]Thomas Alun Lockyer[PLAYER] (born [BIRTHDATE]3 December 1994[BIRTHDATE]) is a [NATIONALITY]Welsh[NATIONALITY] professional footballer who plays as a [POSITION]centre-back[POSITION] for club [CLUB]Luton Town[CLUB] and t[REFERENCE]he[REFERENCE] [COUNTRY]Wales[COUNTRY] national team. Club career. [CLUB]Bristol Rovers[CLUB]. [PLAYER]Lockyer[PLAYER] was born and raised in [CLUB]Cardiff[CLUB]. [PLAYER]Lockyer[PLAYER] started [REFERENCE]his[REFERENCE] career at Radyr Rangers. [REFERENCE]He[REFERENCE] joined [CLUB]Cardiff City[CLUB] as a youth aged 11, but was released aged 16, as [CLUB]Cardiff[CLUB] deemed [REFERENCE]him[REFERENCE] to be too small to play [REFERENCE]his[REFERENCE] preferred position of [POSITION]centre-back[POSITION]. [PLAYER]Lockyer[PLAYER] t[REFERENCE]he[REFERENCE]n signed a scholarship for [CLUB]Bristol Rovers[CLUB] in 2011 and went on to make [REFERENCE]his[REFERENCE] debut on 12 January 201[BIRTHDATE]3[BIRTHDATE], replacing [PLAYER]Ellis Harrison[PLAYER], 85 minutes into a [BIRTHDATE]3[BIRTHDATE]–0 win over [CLUB]Fleetwood Town[CLUB] at Highbury [CLUB]Stadium[CLUB]. [REFERENCE]He[REFERENCE] made [REFERENCE]his[REFERENCE] home debut two months later on 12 March 201[BIRTHDATE]3[BIRTHDATE], replacing [PLAYER]Oliver[PLAYER] Norburn in t[REFERENCE]he[REFERENCE] 74th minute in a 2–0 win over Port Vale. [REFERENCE]He[REFERENCE] signed [REFERENCE]his[REFERENCE] first professional contract in May 201[BIRTHDATE]3[BIRTHDATE], after making [REFERENCE]his[REFERENCE] previous appearances whilst still a youth team player. [PLAYER]Lockyer[PLAYER] scored [REFERENCE]his[REFERENCE] first league goal in a 1–0 win for [CLUB]Bristol Rovers[CLUB] over [CLUB]Northampton Town[CLUB] on [BIRTHDATE]3[BIRTHDATE]1 August 201[BIRTHDATE]3[BIRTHDATE]. On 17 March 2014, [PLAYER]Lockyer[PLAYER] signed a new two-year contract extension with [CLUB]Rovers[CLUB]. After [CLUB]Rovers[CLUB] were relegated out of League Two in t[REFERENCE]he[REFERENCE] 201[BIRTHDATE]3[BIRTHDATE]–14 season, [PLAYER]Lockyer[PLAYER] became a very important part of a very successful season after seeing t[REFERENCE]he[REFERENCE] club get promoted first time of asking. In that season [REFERENCE]he[REFERENCE] managed to score one goal vs Grimsby [CLUB]Town[CLUB]. As [CLUB]Rovers[CLUB] returned to League Two, [REFERENCE]he[REFERENCE] was a first-team regular and was rewarded by being named t[REFERENCE]he[REFERENCE] Football League Young Player of t[REFERENCE]he[REFERENCE] Month for [BIRTHDATE]December[BIRTHDATE] 2015 after consistent good performances. [REFERENCE]He[REFERENCE] made [REFERENCE]his[REFERENCE] 200th appearance for [CLUB]Rovers[CLUB] on 19 August 2017, in a [BIRTHDATE]3[BIRTHDATE]–2 victory over [CLUB]Bury[CLUB], in which [REFERENCE]he[REFERENCE] scored t[REFERENCE]he[REFERENCE] opener. [REFERENCE]He[REFERENCE] departed [CLUB]Bristol Rovers[CLUB] following t[REFERENCE]he[REFERENCE] expiration of [REFERENCE]his[REFERENCE] contract at t[REFERENCE]he[REFERENCE] end of t[REFERENCE]he[REFERENCE] 2018–19 season. [CLUB]Charlton Athletic[CLUB]. [PLAYER]Lockyer[PLAYER] joined [CLUB]Charlton Athletic[CLUB], who were newly promoted to t[REFERENCE]he[REFERENCE] Championship, on 28 June 2019 on a two-year contract. [REFERENCE]His[REFERENCE] first and only goal for t[REFERENCE]he[REFERENCE] club was t[REFERENCE]he[REFERENCE] equaliser in a 2–2 home draw with [CLUB]West Bromwich Albion[CLUB] on 11 January 2020. After playing every minute of 4[BIRTHDATE]3[BIRTHDATE] league appearances in t[REFERENCE]he[REFERENCE] 2019–20 season and missing only three matc[REFERENCE]he[REFERENCE]s due to suspension, [PLAYER]Lockyer[PLAYER] triggered a relegation release clause in [REFERENCE]his[REFERENCE] contract in August 2020, allowing [REFERENCE]him[REFERENCE] to join anot[REFERENCE]he[REFERENCE]r club for free. [CLUB]Luton Town[CLUB]. [PLAYER]Lockyer[PLAYER] signed for anot[REFERENCE]he[REFERENCE]r Championship club, [CLUB]Luton Town[CLUB], on 1 September 2020 on a free transfer. [REFERENCE]His[REFERENCE] debut came two weeks later in a 1–0 EFL Cup second round victory over Reading. In January 2022, [PLAYER]Lockyer[PLAYER] scored [REFERENCE]his[REFERENCE] first goal for t[REFERENCE]he[REFERENCE] club with [REFERENCE]his[REFERENCE] side's first in a 2–1 win over [CLUB]Bristol City[CLUB], saying after t[REFERENCE]he[REFERENCE] match that [REFERENCE]he[REFERENCE] had dreamed of scoring against [REFERENCE]his[REFERENCE] old rivals. During t[REFERENCE]he[REFERENCE] 2022–2[BIRTHDATE]3[BIRTHDATE] season, [PLAYER]Lockyer[PLAYER] continued to grow as a player, earning t[REFERENCE]he[REFERENCE] captaincy following an injury to Sonny Bradley. As t[REFERENCE]he[REFERENCE] season developed, [REFERENCE]he[REFERENCE] earned comparisons from [REFERENCE]his[REFERENCE] management team to legendary defenders Franco [PLAYER]Baresi[PLAYER] and Franz Beckenbauer. On 2[BIRTHDATE]3[BIRTHDATE] April 202[BIRTHDATE]3[BIRTHDATE] [PLAYER]Lockyer[PLAYER] was named in t[REFERENCE]he[REFERENCE] EFL Championship Team of t[REFERENCE]he[REFERENCE] Season. At [CLUB]Luton[CLUB]'s end of season awards, [REFERENCE]he[REFERENCE] took home five awards, most notably t[REFERENCE]he[REFERENCE] Player of t[REFERENCE]he[REFERENCE] Season award.&lt;ref name=\"22\\/2[BIRTHDATE]3[BIRTHDATE] POTS\"&gt; &lt;\\/ref&gt; On 16 May 202[BIRTHDATE]3[BIRTHDATE], [REFERENCE]he[REFERENCE] scored [CLUB]Luton[CLUB]'s all important second goal to defeat [CLUB]Sunderland[CLUB] and send t[REFERENCE]he[REFERENCE] club to [CLUB]Wembley Stadium[CLUB] for t[REFERENCE]he[REFERENCE] Championship play-off final.  [PLAYER]Lockyer[PLAYER] was in t[REFERENCE]he[REFERENCE] starting line-up for t[REFERENCE]he[REFERENCE] 202[BIRTHDATE]3[BIRTHDATE] Championship play-off final against [CLUB]Coventry City[CLUB], but was stretc[REFERENCE]he[REFERENCE]red off t[REFERENCE]he[REFERENCE] pitch after collapsing in t[REFERENCE]he[REFERENCE] 11th minute of t[REFERENCE]he[REFERENCE] first half and taken to hospital. During [CLUB]Luton[CLUB]'s victory celebrations following t[REFERENCE]he[REFERENCE] penalty shoot-out, t[REFERENCE]he[REFERENCE] [CLUB]Luton[CLUB] players paraded a [PLAYER]Lockyer[PLAYER] named playing shirt as t[REFERENCE]he[REFERENCE]y received t[REFERENCE]he[REFERENCE] trophy and t[REFERENCE]he[REFERENCE] club posted a photo of [PLAYER]Lockyer[PLAYER] celebrating in [REFERENCE]his[REFERENCE] hospital bed. [CLUB]Luton[CLUB]’s manager [PLAYER]Rob Edwards[PLAYER] admitted after t[REFERENCE]he[REFERENCE] game that it felt wrong to celebrate and [REFERENCE]his[REFERENCE] thoughts were primarily with [PLAYER]Lockyer[PLAYER]. On [BIRTHDATE]3[BIRTHDATE]1 May, it was confirmed by t[REFERENCE]he[REFERENCE] club that [REFERENCE]he[REFERENCE] would be leaving hospital t[REFERENCE]he[REFERENCE] following day, with a follow-up report a week later stating that [PLAYER]Lockyer[PLAYER] had suffered atrial fibrillation of t[REFERENCE]he he[REFERENCE]art, but given t[REFERENCE]he[REFERENCE] all clear to resume [REFERENCE]his[REFERENCE] playing career following surgery. On 6 July 202[BIRTHDATE]3[BIRTHDATE], it was confirmed that [PLAYER]Lockyer[PLAYER] had renewed [REFERENCE]his[REFERENCE] contract with [CLUB]Luton Town[CLUB], one week after [REFERENCE]his[REFERENCE] previous contract ran out. International career. In October 2015, [PLAYER]Lockyer[PLAYER] made [REFERENCE]his[REFERENCE] [COUNTRY]Wales[COUNTRY] under-21 debut in a 0–0 draw against Denmark. [PLAYER]Lockyer[PLAYER] was called up to t[REFERENCE]he[REFERENCE] [NATIONALITY]Welsh[NATIONALITY] senior team in June 2017, remaining an unused substitute during a 1–1 draw with Serbia. [REFERENCE]He[REFERENCE] received [REFERENCE]his[REFERENCE] second call-up for t[REFERENCE]he[REFERENCE] senior squad on 25 August 2017, for t[REFERENCE]he[REFERENCE] upcoming qualifiers against [COUNTRY]Austria[COUNTRY] and Moldova. [REFERENCE]He[REFERENCE] made [REFERENCE]his[REFERENCE] debut for t[REFERENCE]he[REFERENCE] senior team on 14 November 2017 as a half-time substitute during a 1–1 draw with Panama. In May 2021 [REFERENCE]he[REFERENCE] was selected for t[REFERENCE]he[REFERENCE] [COUNTRY]Wales[COUNTRY] squad for t[REFERENCE]he[REFERENCE] delayed UEFA Euro 2020 tournament. On 9 November 2022, more than a year since [REFERENCE]he[REFERENCE] last played for [REFERENCE]his[REFERENCE] country, [PLAYER]Lockyer[PLAYER] was called up to t[REFERENCE]he[REFERENCE] [COUNTRY]Wales[COUNTRY] squad for t[REFERENCE]he[REFERENCE] 2022 FIFA World Cup. Honours. [CLUB]Bristol Rovers Luton Town[CLUB] Individual\n"
     ]
    }
   ],
   "source": [
    "s = Sentence(\"Thomas Alun Lockyer (born 3 December 1994) is a Welsh professional footballer who plays as a centre-back for club Luton Town and the Wales national team. Club career. Bristol Rovers. Lockyer was born and raised in Cardiff. Lockyer started his career at Radyr Rangers. He joined Cardiff City as a youth aged 11, but was released aged 16, as Cardiff deemed him to be too small to play his preferred position of centre-back. Lockyer then signed a scholarship for Bristol Rovers in 2011 and went on to make his debut on 12 January 2013, replacing Ellis Harrison, 85 minutes into a 3–0 win over Fleetwood Town at Highbury Stadium. He made his home debut two months later on 12 March 2013, replacing Oliver Norburn in the 74th minute in a 2–0 win over Port Vale. He signed his first professional contract in May 2013, after making his previous appearances whilst still a youth team player. Lockyer scored his first league goal in a 1–0 win for Bristol Rovers over Northampton Town on 31 August 2013. On 17 March 2014, Lockyer signed a new two-year contract extension with Rovers. After Rovers were relegated out of League Two in the 2013–14 season, Lockyer became a very important part of a very successful season after seeing the club get promoted first time of asking. In that season he managed to score one goal vs Grimsby Town. As Rovers returned to League Two, he was a first-team regular and was rewarded by being named the Football League Young Player of the Month for December 2015 after consistent good performances. He made his 200th appearance for Rovers on 19 August 2017, in a 3–2 victory over Bury, in which he scored the opener. He departed Bristol Rovers following the expiration of his contract at the end of the 2018–19 season. Charlton Athletic. Lockyer joined Charlton Athletic, who were newly promoted to the Championship, on 28 June 2019 on a two-year contract. His first and only goal for the club was the equaliser in a 2–2 home draw with West Bromwich Albion on 11 January 2020. After playing every minute of 43 league appearances in the 2019–20 season and missing only three matches due to suspension, Lockyer triggered a relegation release clause in his contract in August 2020, allowing him to join another club for free. Luton Town. Lockyer signed for another Championship club, Luton Town, on 1 September 2020 on a free transfer. His debut came two weeks later in a 1–0 EFL Cup second round victory over Reading. In January 2022, Lockyer scored his first goal for the club with his side's first in a 2–1 win over Bristol City, saying after the match that he had dreamed of scoring against his old rivals. During the 2022–23 season, Lockyer continued to grow as a player, earning the captaincy following an injury to Sonny Bradley. As the season developed, he earned comparisons from his management team to legendary defenders Franco Baresi and Franz Beckenbauer. On 23 April 2023 Lockyer was named in the EFL Championship Team of the Season. At Luton's end of season awards, he took home five awards, most notably the Player of the Season award.&lt;ref name=\\\"22\\/23 POTS\\\"&gt; &lt;\\/ref&gt; On 16 May 2023, he scored Luton's all important second goal to defeat Sunderland and send the club to Wembley Stadium for the Championship play-off final.  Lockyer was in the starting line-up for the 2023 Championship play-off final against Coventry City, but was stretchered off the pitch after collapsing in the 11th minute of the first half and taken to hospital. During Luton's victory celebrations following the penalty shoot-out, the Luton players paraded a Lockyer named playing shirt as they received the trophy and the club posted a photo of Lockyer celebrating in his hospital bed. Luton’s manager Rob Edwards admitted after the game that it felt wrong to celebrate and his thoughts were primarily with Lockyer. On 31 May, it was confirmed by the club that he would be leaving hospital the following day, with a follow-up report a week later stating that Lockyer had suffered atrial fibrillation of the heart, but given the all clear to resume his playing career following surgery. On 6 July 2023, it was confirmed that Lockyer had renewed his contract with Luton Town, one week after his previous contract ran out. International career. In October 2015, Lockyer made his Wales under-21 debut in a 0–0 draw against Denmark. Lockyer was called up to the Welsh senior team in June 2017, remaining an unused substitute during a 1–1 draw with Serbia. He received his second call-up for the senior squad on 25 August 2017, for the upcoming qualifiers against Austria and Moldova. He made his debut for the senior team on 14 November 2017 as a half-time substitute during a 1–1 draw with Panama. In May 2021 he was selected for the Wales squad for the delayed UEFA Euro 2020 tournament. On 9 November 2022, more than a year since he last played for his country, Lockyer was called up to the Wales squad for the 2022 FIFA World Cup. Honours. Bristol Rovers Luton Town Individual\")\n",
    "custom_ner_model.predict(s)\n",
    "print(augmented_text(s))"
   ]
  },
  {
   "cell_type": "code",
   "execution_count": null,
   "metadata": {},
   "outputs": [],
   "source": []
  }
 ],
 "metadata": {
  "kernelspec": {
   "display_name": "textMining",
   "language": "python",
   "name": "python3"
  },
  "language_info": {
   "codemirror_mode": {
    "name": "ipython",
    "version": 3
   },
   "file_extension": ".py",
   "mimetype": "text/x-python",
   "name": "python",
   "nbconvert_exporter": "python",
   "pygments_lexer": "ipython3",
   "version": "3.10.12"
  }
 },
 "nbformat": 4,
 "nbformat_minor": 2
}
